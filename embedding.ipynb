{
 "cells": [
  {
   "cell_type": "code",
   "execution_count": 1,
   "id": "d2534e99",
   "metadata": {},
   "outputs": [
    {
     "name": "stderr",
     "output_type": "stream",
     "text": [
      "2025-06-28 13:38:43.476061: I external/local_tsl/tsl/cuda/cudart_stub.cc:31] Could not find cuda drivers on your machine, GPU will not be used.\n",
      "2025-06-28 13:38:45.444671: E external/local_xla/xla/stream_executor/cuda/cuda_dnn.cc:9261] Unable to register cuDNN factory: Attempting to register factory for plugin cuDNN when one has already been registered\n",
      "2025-06-28 13:38:45.444875: E external/local_xla/xla/stream_executor/cuda/cuda_fft.cc:607] Unable to register cuFFT factory: Attempting to register factory for plugin cuFFT when one has already been registered\n",
      "2025-06-28 13:38:45.753570: E external/local_xla/xla/stream_executor/cuda/cuda_blas.cc:1515] Unable to register cuBLAS factory: Attempting to register factory for plugin cuBLAS when one has already been registered\n",
      "2025-06-28 13:38:46.526237: I external/local_tsl/tsl/cuda/cudart_stub.cc:31] Could not find cuda drivers on your machine, GPU will not be used.\n",
      "2025-06-28 13:38:46.529106: I tensorflow/core/platform/cpu_feature_guard.cc:182] This TensorFlow binary is optimized to use available CPU instructions in performance-critical operations.\n",
      "To enable the following instructions: AVX2 FMA, in other operations, rebuild TensorFlow with the appropriate compiler flags.\n",
      "2025-06-28 13:38:55.460266: W tensorflow/compiler/tf2tensorrt/utils/py_utils.cc:38] TF-TRT Warning: Could not find TensorRT\n"
     ]
    }
   ],
   "source": [
    "import tensorflow\n",
    "from tensorflow.keras.preprocessing.text import one_hot"
   ]
  },
  {
   "cell_type": "code",
   "execution_count": 11,
   "id": "199cd2ec",
   "metadata": {},
   "outputs": [],
   "source": [
    "sent=[\n",
    "    'the glass of milk',\n",
    "    'the glass of juice',\n",
    "    'i am a good boy',\n",
    "    'i am a good developer',\n",
    "    'understand the meaning of words',\n",
    "    'your videos are good'\n",
    "]"
   ]
  },
  {
   "cell_type": "code",
   "execution_count": 12,
   "id": "6bee2516",
   "metadata": {},
   "outputs": [
    {
     "data": {
      "text/plain": [
       "['the glass of milk',\n",
       " 'the glass of juice',\n",
       " 'i am a good boy',\n",
       " 'i am a good developer',\n",
       " 'understand the meaning of words',\n",
       " 'your videos are good']"
      ]
     },
     "execution_count": 12,
     "metadata": {},
     "output_type": "execute_result"
    }
   ],
   "source": [
    "sent"
   ]
  },
  {
   "cell_type": "code",
   "execution_count": 5,
   "id": "90020d2c",
   "metadata": {},
   "outputs": [],
   "source": [
    "# define vocabulary\n",
    "voc_size=10000"
   ]
  },
  {
   "cell_type": "code",
   "execution_count": 15,
   "id": "22cbf464",
   "metadata": {},
   "outputs": [
    {
     "data": {
      "text/plain": [
       "[[7488, 3123, 3866, 7265],\n",
       " [7488, 3123, 3866, 3677],\n",
       " [5887, 9126, 8274, 5933, 9496],\n",
       " [5887, 9126, 8274, 5933, 8669],\n",
       " [6720, 7488, 8278, 3866, 177],\n",
       " [9431, 4019, 9322, 5933]]"
      ]
     },
     "execution_count": 15,
     "metadata": {},
     "output_type": "execute_result"
    }
   ],
   "source": [
    "oen_hot_repr=[one_hot(words,voc_size)for words in sent]\n",
    "oen_hot_repr"
   ]
  },
  {
   "cell_type": "code",
   "execution_count": 18,
   "id": "dbb86547",
   "metadata": {},
   "outputs": [],
   "source": [
    "## word embedding repr\n",
    "from tensorflow.keras.layers import Embedding\n",
    "from tensorflow.keras.preprocessing.sequence import pad_sequences\n",
    "from tensorflow.keras.models import Sequential\n",
    "from tensorflow.keras.utils import pad_sequences\n",
    "import numpy as np"
   ]
  },
  {
   "cell_type": "code",
   "execution_count": 23,
   "id": "e183be85",
   "metadata": {},
   "outputs": [
    {
     "name": "stdout",
     "output_type": "stream",
     "text": [
      "[[   0    0    0    0 7488 3123 3866 7265]\n",
      " [   0    0    0    0 7488 3123 3866 3677]\n",
      " [   0    0    0 5887 9126 8274 5933 9496]\n",
      " [   0    0    0 5887 9126 8274 5933 8669]\n",
      " [   0    0    0 6720 7488 8278 3866  177]\n",
      " [   0    0    0    0 9431 4019 9322 5933]]\n"
     ]
    }
   ],
   "source": [
    "sent_length=8\n",
    "embedded_docs=pad_sequences(oen_hot_repr,padding='pre',maxlen=sent_length)\n",
    "print(embedded_docs)"
   ]
  },
  {
   "cell_type": "code",
   "execution_count": 24,
   "id": "7e47b453",
   "metadata": {},
   "outputs": [],
   "source": [
    "dim=10"
   ]
  },
  {
   "cell_type": "code",
   "execution_count": 25,
   "metadata": {},
   "outputs": [
    {
     "name": "stderr",
     "output_type": "stream",
     "text": [
      "2025-06-28 01:25:55.626178: E external/local_xla/xla/stream_executor/cuda/cuda_driver.cc:274] failed call to cuInit: CUDA_ERROR_NO_DEVICE: no CUDA-capable device is detected\n"
     ]
    }
   ],
   "source": [
    "model=Sequential()\n",
    "model.add(Embedding(voc_size,dim,input_length=sent_length))\n",
    "model.compile('adam','mse')"
   ]
  },
  {
   "cell_type": "code",
   "execution_count": 27,
   "metadata": {},
   "outputs": [
    {
     "name": "stdout",
     "output_type": "stream",
     "text": [
      "Model: \"sequential\"\n",
      "_________________________________________________________________\n",
      " Layer (type)                Output Shape              Param #   \n",
      "=================================================================\n",
      " embedding (Embedding)       (None, 8, 10)             100000    \n",
      "                                                                 \n",
      "=================================================================\n",
      "Total params: 100000 (390.62 KB)\n",
      "Trainable params: 100000 (390.62 KB)\n",
      "Non-trainable params: 0 (0.00 Byte)\n",
      "_________________________________________________________________\n"
     ]
    }
   ],
   "source": [
    "model.summary()"
   ]
  },
  {
   "cell_type": "code",
   "execution_count": 35,
   "id": "9d6e7853",
   "metadata": {},
   "outputs": [
    {
     "name": "stdout",
     "output_type": "stream",
     "text": [
      "1/1 [==============================] - 0s 33ms/step\n"
     ]
    },
    {
     "data": {
      "text/plain": [
       "array([[ 2.0508979e-02,  2.9581103e-02,  2.7565729e-02, -3.3036031e-02,\n",
       "         3.3423528e-03,  3.6168210e-03,  2.6815820e-02, -1.0698535e-02,\n",
       "         2.5810007e-02, -3.4632098e-02],\n",
       "       [ 2.0508979e-02,  2.9581103e-02,  2.7565729e-02, -3.3036031e-02,\n",
       "         3.3423528e-03,  3.6168210e-03,  2.6815820e-02, -1.0698535e-02,\n",
       "         2.5810007e-02, -3.4632098e-02],\n",
       "       [ 2.0508979e-02,  2.9581103e-02,  2.7565729e-02, -3.3036031e-02,\n",
       "         3.3423528e-03,  3.6168210e-03,  2.6815820e-02, -1.0698535e-02,\n",
       "         2.5810007e-02, -3.4632098e-02],\n",
       "       [ 2.0508979e-02,  2.9581103e-02,  2.7565729e-02, -3.3036031e-02,\n",
       "         3.3423528e-03,  3.6168210e-03,  2.6815820e-02, -1.0698535e-02,\n",
       "         2.5810007e-02, -3.4632098e-02],\n",
       "       [ 1.2375522e-02,  4.5247186e-02, -2.4707174e-02,  3.0074827e-03,\n",
       "         4.0754203e-02, -3.2057278e-03, -3.9506353e-02, -2.4354769e-02,\n",
       "         4.3051247e-02,  1.6359273e-02],\n",
       "       [ 3.2459367e-02, -4.6896663e-02, -3.2483473e-02,  5.9986115e-03,\n",
       "        -3.2339036e-02, -3.6525019e-03, -3.6381710e-02, -5.7257712e-05,\n",
       "         2.3633312e-02,  4.4871379e-02],\n",
       "       [-4.3491304e-02, -1.6722847e-02,  3.1960715e-02,  3.3511285e-02,\n",
       "         3.8310934e-02, -4.7053196e-02,  4.1127410e-02, -2.9362930e-02,\n",
       "         2.2515345e-02,  4.0628616e-02],\n",
       "       [-1.2119222e-02, -4.2474307e-02, -4.8905861e-02, -6.5302625e-03,\n",
       "         4.7270324e-02, -2.7172089e-02, -4.3060135e-02,  7.3832981e-03,\n",
       "        -2.1104408e-02, -1.4492977e-02]], dtype=float32)"
      ]
     },
     "execution_count": 35,
     "metadata": {},
     "output_type": "execute_result"
    }
   ],
   "source": [
    "model.predict(embedded_docs[0])"
   ]
  },
  {
   "cell_type": "code",
   "execution_count": 36,
   "id": "14f11b7d",
   "metadata": {},
   "outputs": [
    {
     "name": "stdout",
     "output_type": "stream",
     "text": [
      "1/1 [==============================] - 0s 36ms/step\n"
     ]
    },
    {
     "data": {
      "text/plain": [
       "array([[ 2.0508979e-02,  2.9581103e-02,  2.7565729e-02, -3.3036031e-02,\n",
       "         3.3423528e-03,  3.6168210e-03,  2.6815820e-02, -1.0698535e-02,\n",
       "         2.5810007e-02, -3.4632098e-02],\n",
       "       [ 2.0508979e-02,  2.9581103e-02,  2.7565729e-02, -3.3036031e-02,\n",
       "         3.3423528e-03,  3.6168210e-03,  2.6815820e-02, -1.0698535e-02,\n",
       "         2.5810007e-02, -3.4632098e-02],\n",
       "       [ 2.0508979e-02,  2.9581103e-02,  2.7565729e-02, -3.3036031e-02,\n",
       "         3.3423528e-03,  3.6168210e-03,  2.6815820e-02, -1.0698535e-02,\n",
       "         2.5810007e-02, -3.4632098e-02],\n",
       "       [ 2.0508979e-02,  2.9581103e-02,  2.7565729e-02, -3.3036031e-02,\n",
       "         3.3423528e-03,  3.6168210e-03,  2.6815820e-02, -1.0698535e-02,\n",
       "         2.5810007e-02, -3.4632098e-02],\n",
       "       [ 1.2375522e-02,  4.5247186e-02, -2.4707174e-02,  3.0074827e-03,\n",
       "         4.0754203e-02, -3.2057278e-03, -3.9506353e-02, -2.4354769e-02,\n",
       "         4.3051247e-02,  1.6359273e-02],\n",
       "       [ 3.2459367e-02, -4.6896663e-02, -3.2483473e-02,  5.9986115e-03,\n",
       "        -3.2339036e-02, -3.6525019e-03, -3.6381710e-02, -5.7257712e-05,\n",
       "         2.3633312e-02,  4.4871379e-02],\n",
       "       [-4.3491304e-02, -1.6722847e-02,  3.1960715e-02,  3.3511285e-02,\n",
       "         3.8310934e-02, -4.7053196e-02,  4.1127410e-02, -2.9362930e-02,\n",
       "         2.2515345e-02,  4.0628616e-02],\n",
       "       [-4.7572888e-02, -4.3639056e-03,  4.5760814e-02,  3.9464124e-03,\n",
       "        -1.1247646e-02,  6.8822876e-03, -4.4654954e-02,  3.1137411e-02,\n",
       "         1.8310081e-02,  4.5190826e-03]], dtype=float32)"
      ]
     },
     "execution_count": 36,
     "metadata": {},
     "output_type": "execute_result"
    }
   ],
   "source": [
    "model.predict(embedded_docs[1])"
   ]
  },
  {
   "cell_type": "code",
   "execution_count": null,
   "id": "21a2d6dd",
   "metadata": {},
   "outputs": [],
   "source": []
  },
  {
   "cell_type": "code",
   "execution_count": null,
   "id": "08a99511",
   "metadata": {},
   "outputs": [],
   "source": []
  }
 ],
 "metadata": {
  "kernelspec": {
   "display_name": "Python 3",
   "language": "python",
   "name": "python3"
  },
  "language_info": {
   "codemirror_mode": {
    "name": "ipython",
    "version": 3
   },
   "file_extension": ".py",
   "mimetype": "text/x-python",
   "name": "python",
   "nbconvert_exporter": "python",
   "pygments_lexer": "ipython3",
   "version": "3.11.0"
  }
 },
 "nbformat": 4,
 "nbformat_minor": 5
}
